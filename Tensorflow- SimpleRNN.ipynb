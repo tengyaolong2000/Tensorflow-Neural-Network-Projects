{
 "cells": [
  {
   "cell_type": "code",
   "execution_count": 1,
   "id": "098176f0",
   "metadata": {},
   "outputs": [],
   "source": [
    "import numpy as np\n",
    "import tensorflow as tf\n",
    "np.random.seed(0)\n",
    "tf.random.set_seed(0)\n"
   ]
  },
  {
   "cell_type": "code",
   "execution_count": 6,
   "id": "a68c70c7",
   "metadata": {},
   "outputs": [],
   "source": [
    "num_inputs = 2\n",
    "num_neurons = 3\n",
    "\n",
    "#define variables for weoght matrices\n",
    "\n",
    "Wf = tf.Variable(tf.random.normal(shape=[num_inputs, num_neurons]))\n",
    "\n",
    "Wr = tf.Variable(tf.random.normal(shape=[num_neurons, num_neurons]))\n",
    "\n",
    "#notice that the recurrent weights are square matrices\n",
    "\n",
    "b = tf.Variable(tf.zeros([1,num_neurons]))\n",
    "\n",
    "#create data\n",
    "xt0_batch = np.array([[0,1], [2,3], [4,5]]).astype(np.float32)\n",
    "xt1_batch = np.array([[100,101],[102,103],[104,105]]).astype(np.float32)\n",
    "\n",
    "#define function named forward_pass\n",
    "\n",
    "def forward_pass(xt0, xt1):\n",
    "    yt0 = tf.tanh(tf.matmul(xt0, Wf) + b)\n",
    "    yt1 = tf.tanh(tf.matmul(yt0, Wr)  + tf.matmul(xt1, Wf) + b)\n",
    "    return yt0, yt1\n"
   ]
  },
  {
   "cell_type": "code",
   "execution_count": 7,
   "id": "964aea2b",
   "metadata": {},
   "outputs": [
    {
     "name": "stdout",
     "output_type": "stream",
     "text": [
      "[[-0.322427094 -0.453153342 -0.874035954]\n",
      " [0.976908803 0.997917175 -0.99999392]\n",
      " [0.999860227 0.999999166 -1]]\n"
     ]
    }
   ],
   "source": [
    "#perform forward pass\n",
    "\n",
    "yt0_output, yt1_output = forward_pass(xt0_batch, xt1_batch)\n",
    "tf.print(yt0_output)"
   ]
  },
  {
   "cell_type": "code",
   "execution_count": 8,
   "id": "1ba84314",
   "metadata": {},
   "outputs": [
    {
     "name": "stdout",
     "output_type": "stream",
     "text": [
      "[[1 1 -1]\n",
      " [1 1 -1]\n",
      " [1 1 -1]]\n"
     ]
    }
   ],
   "source": [
    "tf.print(yt1_output)"
   ]
  },
  {
   "cell_type": "code",
   "execution_count": 9,
   "id": "fec38ca9",
   "metadata": {},
   "outputs": [
    {
     "data": {
      "text/plain": [
       "1"
      ]
     },
     "execution_count": 9,
     "metadata": {},
     "output_type": "execute_result"
    }
   ],
   "source": [
    "(15**2018)%7"
   ]
  },
  {
   "cell_type": "code",
   "execution_count": null,
   "id": "a2f22e8f",
   "metadata": {},
   "outputs": [],
   "source": []
  }
 ],
 "metadata": {
  "kernelspec": {
   "display_name": "tf",
   "language": "python",
   "name": "tf"
  },
  "language_info": {
   "codemirror_mode": {
    "name": "ipython",
    "version": 3
   },
   "file_extension": ".py",
   "mimetype": "text/x-python",
   "name": "python",
   "nbconvert_exporter": "python",
   "pygments_lexer": "ipython3",
   "version": "3.7.10"
  }
 },
 "nbformat": 4,
 "nbformat_minor": 5
}
