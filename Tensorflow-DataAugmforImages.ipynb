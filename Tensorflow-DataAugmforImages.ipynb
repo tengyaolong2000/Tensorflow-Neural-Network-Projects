{
 "cells": [
  {
   "cell_type": "code",
   "execution_count": 2,
   "id": "332ca70f",
   "metadata": {},
   "outputs": [],
   "source": [
    "from tensorflow.keras.datasets import cifar10\n",
    "\n",
    "(features_train, label_train), (features_test, label_test) = cifar10.load_data()"
   ]
  },
  {
   "cell_type": "code",
   "execution_count": 3,
   "id": "4f8adf40",
   "metadata": {},
   "outputs": [
    {
     "data": {
      "text/plain": [
       "50000"
      ]
     },
     "execution_count": 3,
     "metadata": {},
     "output_type": "execute_result"
    }
   ],
   "source": [
    "features_train.shape\n",
    "len(features_train)"
   ]
  },
  {
   "cell_type": "code",
   "execution_count": 4,
   "id": "45a4667e",
   "metadata": {},
   "outputs": [],
   "source": [
    "batch_size = 16\n",
    "img_height = 32\n",
    "img_width = 32"
   ]
  },
  {
   "cell_type": "code",
   "execution_count": 5,
   "id": "d8bf2f42",
   "metadata": {},
   "outputs": [],
   "source": [
    "from tensorflow.keras.preprocessing.image import ImageDataGenerator\n",
    "\n",
    "train_img_gen = ImageDataGenerator(rescale=1./255, width_shift_range=0.1, height_shift_range=0.1, horizontal_flip=True)\n",
    "val_img_gen = ImageDataGenerator(rescale=1./255)\n",
    "\n",
    "train_data_gen = train_img_gen.flow(features_train, label_train, batch_size=batch_size)\n",
    "val_data_gen = train_img_gen.flow(features_test, label_test, batch_size=batch_size)\n",
    "\n",
    "import numpy as np\n",
    "import tensorflow as tf\n",
    "from tensorflow.keras import layers\n",
    "\n",
    "np.random.seed(8)\n",
    "tf.random.set_seed(8)"
   ]
  },
  {
   "cell_type": "code",
   "execution_count": 6,
   "id": "bb8e2dfa",
   "metadata": {},
   "outputs": [],
   "source": [
    "model = tf.keras.Sequential([\n",
    "    layers.Conv2D(64, 3, activation='relu', input_shape=(img_height, img_width, 3)),\n",
    "    layers.MaxPooling2D(),\n",
    "    layers.Conv2D(128, 3, activation='relu'),\n",
    "    layers.MaxPooling2D(),\n",
    "    layers.Flatten(),\n",
    "    layers.Dense(128, activation='relu'),\n",
    "    layers.Dense(10, activation='softmax')\n",
    "])\n",
    "\n",
    "optimizer = tf.keras.optimizers.Adam(0.001)\n"
   ]
  },
  {
   "cell_type": "code",
   "execution_count": 7,
   "id": "be26d398",
   "metadata": {},
   "outputs": [],
   "source": [
    "model.compile(loss='sparse_categorical_crossentropy', optimizer=optimizer, metrics=['accuracy'] )"
   ]
  },
  {
   "cell_type": "code",
   "execution_count": 8,
   "id": "cf40b2a5",
   "metadata": {},
   "outputs": [
    {
     "name": "stdout",
     "output_type": "stream",
     "text": [
      "Epoch 1/5\n",
      "3125/3125 [==============================] - 388s 124ms/step - loss: 1.4998 - accuracy: 0.4564 - val_loss: 1.2111 - val_accuracy: 0.5720\n",
      "Epoch 2/5\n",
      "3125/3125 [==============================] - 374s 120ms/step - loss: 1.1780 - accuracy: 0.5829 - val_loss: 1.0775 - val_accuracy: 0.6221\n",
      "Epoch 3/5\n",
      "3125/3125 [==============================] - 379s 121ms/step - loss: 1.0663 - accuracy: 0.6247 - val_loss: 1.0438 - val_accuracy: 0.6384\n",
      "Epoch 4/5\n",
      "3125/3125 [==============================] - 378s 121ms/step - loss: 1.0153 - accuracy: 0.6421 - val_loss: 0.9796 - val_accuracy: 0.6541\n",
      "Epoch 5/5\n",
      "3125/3125 [==============================] - 384s 123ms/step - loss: 0.9671 - accuracy: 0.6607 - val_loss: 0.9690 - val_accuracy: 0.6666\n"
     ]
    },
    {
     "data": {
      "text/plain": [
       "<tensorflow.python.keras.callbacks.History at 0x7f8fa9c35d50>"
      ]
     },
     "execution_count": 8,
     "metadata": {},
     "output_type": "execute_result"
    }
   ],
   "source": [
    "import os\n",
    "os.environ['KMP_DUPLICATE_LIB_OK']='True'\n",
    "\n",
    "model.fit_generator(train_data_gen, steps_per_epoch=len(features_train)//batch_size, epochs=5, validation_data=val_data_gen, \\\n",
    "                    validation_steps= len(features_test)//batch_size)"
   ]
  },
  {
   "cell_type": "code",
   "execution_count": 37,
   "id": "d66b3726",
   "metadata": {},
   "outputs": [
    {
     "name": "stdout",
     "output_type": "stream",
     "text": [
      "(1, 32, 32, 3)\n"
     ]
    }
   ],
   "source": [
    "image_string = tf.io.read_file('/Users/tengyaolong/Desktop/download-1.jpg')\n",
    "image_decoded = tf.io.decode_jpeg(image_string, channels=3)\n",
    "image = tf.cast(image_decoded, tf.float32)\n",
    "image_input = image/255.0\n",
    "np.expand_dims(image_input, axis=0)\n",
    "image_input = tf.reshape(image_input, [1,32,32,3])\n",
    "print(image_input.shape)"
   ]
  },
  {
   "cell_type": "code",
   "execution_count": 38,
   "id": "509d6ee6",
   "metadata": {},
   "outputs": [],
   "source": [
    "x = model.predict(image_input)"
   ]
  },
  {
   "cell_type": "code",
   "execution_count": 39,
   "id": "03521118",
   "metadata": {},
   "outputs": [
    {
     "data": {
      "text/plain": [
       "3"
      ]
     },
     "execution_count": 39,
     "metadata": {},
     "output_type": "execute_result"
    }
   ],
   "source": [
    "x.argmax()"
   ]
  },
  {
   "cell_type": "code",
   "execution_count": 40,
   "id": "a9977b35",
   "metadata": {},
   "outputs": [
    {
     "data": {
      "text/plain": [
       "<matplotlib.image.AxesImage at 0x7f8fc8fd9410>"
      ]
     },
     "execution_count": 40,
     "metadata": {},
     "output_type": "execute_result"
    },
    {
     "data": {
      "image/png": "[encoded data removed]",
      "text/plain": [
       "<Figure size 432x288 with 1 Axes>"
      ]
     },
     "metadata": {
      "needs_background": "light"
     },
     "output_type": "display_data"
    }
   ],
   "source": [
    "import matplotlib.pyplot as plt\n",
    "\n",
    "plt.imshow(features_train[27])\n"
   ]
  },
  {
   "cell_type": "code",
   "execution_count": 30,
   "id": "da101303",
   "metadata": {},
   "outputs": [],
   "source": [
    "# airplane : 0\n",
    "# automobile : 1\n",
    "# bird : 2\n",
    "# cat : 3\n",
    "# deer : 4\n",
    "# dog : 5\n",
    "# frog : 6\n",
    "# horse : 7\n",
    "# ship : 8\n",
    "# truck : 9"
   ]
  },
  {
   "cell_type": "code",
   "execution_count": null,
   "id": "c98202d3",
   "metadata": {},
   "outputs": [],
   "source": []
  }
 ],
 "metadata": {
  "kernelspec": {
   "display_name": "tf",
   "language": "python",
   "name": "tf"
  },
  "language_info": {
   "codemirror_mode": {
    "name": "ipython",
    "version": 3
   },
   "file_extension": ".py",
   "mimetype": "text/x-python",
   "name": "python",
   "nbconvert_exporter": "python",
   "pygments_lexer": "ipython3",
   "version": "3.7.10"
  }
 },
 "nbformat": 4,
 "nbformat_minor": 5
}
