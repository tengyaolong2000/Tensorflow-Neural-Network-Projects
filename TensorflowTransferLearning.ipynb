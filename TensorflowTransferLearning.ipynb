{
 "cells": [
  {
   "cell_type": "code",
   "execution_count": 5,
   "id": "63019725",
   "metadata": {},
   "outputs": [
    {
     "name": "stdout",
     "output_type": "stream",
     "text": [
      "[[('n04285008', 'sports_car', 0.9026759), ('n02974003', 'car_wheel', 0.032814305), ('n04037443', 'racer', 0.031918023), ('n02814533', 'beach_wagon', 0.01917579), ('n03100240', 'convertible', 0.007558585)]]\n"
     ]
    }
   ],
   "source": [
    "#Using pretrained model\n",
    "\n",
    "import tensorflow as tf\n",
    "from tensorflow.keras.applications import VGG16\n",
    "import os\n",
    "os.environ['KMP_DUPLICATE_LIB_OK']='True'\n",
    "\n",
    "img_dim = (224,224, 3)\n",
    "base_model = VGG16(input_shape=img_dim, weights='imagenet', include_top=True)\n",
    "\n",
    "from tensorflow.keras.preprocessing.image import load_img\n",
    "from tensorflow.keras.preprocessing.image import img_to_array\n",
    "from tensorflow.keras.applications.vgg16 import preprocess_input\n",
    "from tensorflow.keras.applications.vgg16 import decode_predictions\n",
    "\n",
    "image = load_img('/Users/tengyaolong/Desktop/download-2.jpg')\n",
    "image = img_to_array(image)  #output Numpy-array\n",
    "\n",
    "image = image.reshape((1, image.shape[0], image.shape[1], image.shape[2]))\n",
    "\n",
    "image = preprocess_input(image)\n",
    "yhat = base_model.predict(image)\n",
    "\n",
    "label = decode_predictions(yhat)\n",
    "print(label)"
   ]
  },
  {
   "cell_type": "code",
   "execution_count": null,
   "id": "65dfca78",
   "metadata": {},
   "outputs": [],
   "source": [
    "#what if we want to use this pretrained model to predict different classes other than the ones from ImageNet?\n",
    "#we replace the last fully connected layers of the pretrained model and train them on new classes (include_top=False)\n",
    "\n",
    "base_model = VGG16(input_shape=img_dim, weights='imagenet', include_top=False)\n",
    "\n",
    "#freeze the model\n",
    "base_model.trainable=False\n",
    "\n",
    "#create new fully connected layer\n",
    "prediction_layer = tf.keras.layers.Dense(20, activation='softmax')\n",
    "\n",
    "#add new fully connected layer to our base model\n",
    "new_model = tf.keras.Sequential([base_model, prediction_layer])\n",
    "\n",
    "#finally we train the model, but only the weights of the last layer will be updated\n",
    "\n",
    "optimizer = tf.keras.optimizers.Adam(0.001)\n",
    "new_model.compile(loss='sparse_categorical_crossentropy', optimizer=optimizer, metrics=['accuracy'])\n",
    "new_model.fit(features_train, label_train, epoch=5, validation_split=0.2, verbose=2)"
   ]
  }
 ],
 "metadata": {
  "kernelspec": {
   "display_name": "tf",
   "language": "python",
   "name": "tf"
  },
  "language_info": {
   "codemirror_mode": {
    "name": "ipython",
    "version": 3
   },
   "file_extension": ".py",
   "mimetype": "text/x-python",
   "name": "python",
   "nbconvert_exporter": "python",
   "pygments_lexer": "ipython3",
   "version": "3.7.10"
  }
 },
 "nbformat": 4,
 "nbformat_minor": 5
}
