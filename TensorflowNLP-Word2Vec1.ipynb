{
 "cells": [
  {
   "cell_type": "code",
   "execution_count": 1,
   "id": "69a2626a",
   "metadata": {},
   "outputs": [],
   "source": [
    "import gensim.downloader as api\n",
    "dataset = api.load('text8')\n",
    "from gensim.models import word2vec\n",
    "import numpy as np\n",
    "np.random.seed(1)\n"
   ]
  },
  {
   "cell_type": "code",
   "execution_count": 2,
   "id": "09679487",
   "metadata": {},
   "outputs": [],
   "source": [
    "model = word2vec.Word2Vec(dataset)"
   ]
  },
  {
   "cell_type": "code",
   "execution_count": 3,
   "id": "358614d8",
   "metadata": {},
   "outputs": [
    {
     "name": "stdout",
     "output_type": "stream",
     "text": [
      "[-1.8115686  -1.0279953   0.7001261  -0.90077895  1.5078276   0.41907609\n",
      " -2.7459667  -0.87136924 -2.76612     0.22464079 -1.4375533  -2.377576\n",
      "  1.1164621   1.3047912  -1.9704087  -0.9212496   0.4685753  -0.63222057\n",
      "  0.31923935 -0.9823585   1.135603   -0.30815178  0.30059502 -2.0466561\n",
      " -0.6621402  -1.5513748   1.8937608  -0.5189336  -0.92825085 -1.2479372\n",
      "  3.950963    0.5915261   1.161883   -0.17298089  1.1374668  -1.536632\n",
      "  1.0662099  -1.4386739  -0.24132232 -1.4366617  -1.49451    -1.1410908\n",
      " -0.6032594   1.6812776   0.14834869  0.10106379  1.1328672  -0.32325718\n",
      " -0.34094134  0.65783364  0.72577065  1.1189595  -0.9509093   0.61023235\n",
      " -0.09267068 -0.7537414  -0.52634066 -0.2526148  -1.7584078   0.10608493\n",
      " -0.6588707  -1.1471832  -1.9618182   3.7746844  -0.9863516  -1.2264142\n",
      "  1.0685508  -2.2975125  -1.3335091  -0.00816266 -0.65641844 -0.6955258\n",
      "  0.4937628   1.0015521  -1.1542355  -0.86749387 -0.4578011  -0.23583835\n",
      "  0.51647097  0.56012934  2.6396666  -1.228679   -0.8052673   2.0421298\n",
      " -1.2906848   1.1114851   0.39577425 -0.55732435 -0.61928195 -0.12518607\n",
      "  0.69726115 -0.21765357  0.9943222   2.5849595   0.84244895  1.0817577\n",
      " -1.4781363   0.6545631  -0.9408908   1.6282868 ]\n"
     ]
    }
   ],
   "source": [
    "print(model.wv['animal'])"
   ]
  },
  {
   "cell_type": "code",
   "execution_count": 4,
   "id": "1cbc3644",
   "metadata": {},
   "outputs": [
    {
     "data": {
      "text/plain": [
       "100"
      ]
     },
     "execution_count": 4,
     "metadata": {},
     "output_type": "execute_result"
    }
   ],
   "source": [
    "len(model.wv['animal'])"
   ]
  },
  {
   "cell_type": "code",
   "execution_count": 5,
   "id": "519df8da",
   "metadata": {},
   "outputs": [
    {
     "data": {
      "text/plain": [
       "[('animals', 0.7280582189559937),\n",
       " ('insect', 0.7270314693450928),\n",
       " ('ants', 0.6673954129219055),\n",
       " ('aquatic', 0.6635600924491882),\n",
       " ('feces', 0.6544348001480103),\n",
       " ('mammal', 0.6456699967384338),\n",
       " ('bees', 0.6388276815414429),\n",
       " ('organism', 0.6352677345275879),\n",
       " ('humans', 0.6345362663269043),\n",
       " ('instinct', 0.6165345907211304)]"
      ]
     },
     "execution_count": 5,
     "metadata": {},
     "output_type": "execute_result"
    }
   ],
   "source": [
    "model.wv.most_similar('animal')"
   ]
  },
  {
   "cell_type": "code",
   "execution_count": 6,
   "id": "b0319c4c",
   "metadata": {},
   "outputs": [
    {
     "data": {
      "text/plain": [
       "[('humanity', 0.8058109283447266),\n",
       " ('desires', 0.75057053565979),\n",
       " ('pleasure', 0.7487636208534241),\n",
       " ('goodness', 0.741835355758667),\n",
       " ('compassion', 0.7406274676322937),\n",
       " ('dignity', 0.7388202548027039),\n",
       " ('fear', 0.7273430228233337),\n",
       " ('immortality', 0.7215524911880493),\n",
       " ('perfection', 0.7180919647216797),\n",
       " ('mankind', 0.7153884172439575)]"
      ]
     },
     "execution_count": 6,
     "metadata": {},
     "output_type": "execute_result"
    }
   ],
   "source": [
    "model.wv.most_similar('happiness')"
   ]
  },
  {
   "cell_type": "code",
   "execution_count": 7,
   "id": "514f36f3",
   "metadata": {},
   "outputs": [
    {
     "data": {
      "text/plain": [
       "[('queen', 0.6706148386001587),\n",
       " ('prince', 0.6420115828514099),\n",
       " ('princess', 0.6185532808303833),\n",
       " ('throne', 0.6005697846412659),\n",
       " ('regent', 0.5996447205543518)]"
      ]
     },
     "execution_count": 7,
     "metadata": {},
     "output_type": "execute_result"
    }
   ],
   "source": [
    "model.wv.most_similar(positive=['woman', 'king'], \\\n",
    "                     negative=['man'], topn=5)"
   ]
  },
  {
   "cell_type": "code",
   "execution_count": 8,
   "id": "fd885e86",
   "metadata": {},
   "outputs": [
    {
     "data": {
      "text/plain": [
       "[('grandmother', 0.8235436677932739),\n",
       " ('wife', 0.8125548362731934),\n",
       " ('niece', 0.8039440512657166),\n",
       " ('widow', 0.8030277490615845),\n",
       " ('aunt', 0.8008883595466614)]"
      ]
     },
     "execution_count": 8,
     "metadata": {},
     "output_type": "execute_result"
    }
   ],
   "source": [
    "model.wv.most_similar(positive=['uncle', 'woman'], \\\n",
    "                     negative=['man'], topn=5)"
   ]
  },
  {
   "cell_type": "code",
   "execution_count": 11,
   "id": "16824825",
   "metadata": {},
   "outputs": [],
   "source": [
    "v1 = model.wv['get']"
   ]
  },
  {
   "cell_type": "code",
   "execution_count": 12,
   "id": "98aca841",
   "metadata": {},
   "outputs": [],
   "source": [
    "v2 =model.wv['happy']"
   ]
  },
  {
   "cell_type": "code",
   "execution_count": 13,
   "id": "38a4dd2b",
   "metadata": {},
   "outputs": [],
   "source": [
    "res1 = (v1+v2)/2"
   ]
  },
  {
   "cell_type": "code",
   "execution_count": 14,
   "id": "77a69665",
   "metadata": {},
   "outputs": [],
   "source": [
    "v1 = model.wv['make']\n",
    "v2 = model.wv['merry']"
   ]
  },
  {
   "cell_type": "code",
   "execution_count": 15,
   "id": "821182e7",
   "metadata": {},
   "outputs": [],
   "source": [
    "res2 = (v1+v2)/2"
   ]
  },
  {
   "cell_type": "code",
   "execution_count": 16,
   "id": "835eba2c",
   "metadata": {},
   "outputs": [
    {
     "data": {
      "text/plain": [
       "array([0.55991423], dtype=float32)"
      ]
     },
     "execution_count": 16,
     "metadata": {},
     "output_type": "execute_result"
    }
   ],
   "source": [
    "model.wv.cosine_similarities(res1, [res2])"
   ]
  },
  {
   "cell_type": "code",
   "execution_count": 17,
   "id": "cb83e9d1",
   "metadata": {},
   "outputs": [],
   "source": [
    "model = word2vec.Word2Vec(dataset, vector_size=30)"
   ]
  },
  {
   "cell_type": "code",
   "execution_count": 18,
   "id": "09882be6",
   "metadata": {},
   "outputs": [
    {
     "data": {
      "text/plain": [
       "[('emperor', 0.818423867225647),\n",
       " ('prince', 0.8157278895378113),\n",
       " ('son', 0.8145059943199158),\n",
       " ('suffect', 0.79877108335495),\n",
       " ('duke', 0.7986217737197876)]"
      ]
     },
     "execution_count": 18,
     "metadata": {},
     "output_type": "execute_result"
    }
   ],
   "source": [
    "model.wv.most_similar(positive=['woman', 'king'], \\\n",
    "                     negative=['man'], topn=5)"
   ]
  },
  {
   "cell_type": "code",
   "execution_count": 19,
   "id": "43bc75e2",
   "metadata": {},
   "outputs": [
    {
     "data": {
      "text/plain": [
       "[('baglione', 0.7259185910224915),\n",
       " ('masterpiece', 0.7243134379386902),\n",
       " ('masterpieces', 0.7074434757232666),\n",
       " ('bartolommeo', 0.7017770409584045),\n",
       " ('goethe', 0.6869456768035889)]"
      ]
     },
     "execution_count": 19,
     "metadata": {},
     "output_type": "execute_result"
    }
   ],
   "source": [
    "model = word2vec.Word2Vec(dataset)\n",
    "model.wv.most_similar('oeuvre', topn=5)"
   ]
  },
  {
   "cell_type": "code",
   "execution_count": 20,
   "id": "802280f6",
   "metadata": {},
   "outputs": [
    {
     "data": {
      "text/plain": [
       "[('masterful', 0.8355147242546082),\n",
       " ('satiric', 0.8249815106391907),\n",
       " ('operettas', 0.823529839515686),\n",
       " ('librettos', 0.8232157230377197),\n",
       " ('fidelio', 0.8156346082687378)]"
      ]
     },
     "execution_count": 20,
     "metadata": {},
     "output_type": "execute_result"
    }
   ],
   "source": [
    "model_sg = word2vec.Word2Vec(dataset, sg=1)\n",
    "model_sg.wv.most_similar('oeuvre', topn=5)"
   ]
  },
  {
   "cell_type": "markdown",
   "id": "ab135813",
   "metadata": {},
   "source": [
    "Training Word Vectors on Different Datasets"
   ]
  },
  {
   "cell_type": "code",
   "execution_count": 21,
   "id": "deefe6d2",
   "metadata": {},
   "outputs": [
    {
     "name": "stderr",
     "output_type": "stream",
     "text": [
      "[nltk_data] Downloading package brown to\n",
      "[nltk_data]     /Users/tengyaolong/nltk_data...\n",
      "[nltk_data]   Package brown is already up-to-date!\n",
      "[nltk_data] Downloading package movie_reviews to\n",
      "[nltk_data]     /Users/tengyaolong/nltk_data...\n",
      "[nltk_data]   Package movie_reviews is already up-to-date!\n"
     ]
    }
   ],
   "source": [
    "import nltk\n",
    "nltk.download('brown')\n",
    "nltk.download('movie_reviews')\n",
    "from nltk.corpus import brown, movie_reviews"
   ]
  },
  {
   "cell_type": "code",
   "execution_count": 22,
   "id": "622f3201",
   "metadata": {},
   "outputs": [],
   "source": [
    "model_brown = word2vec.Word2Vec(brown.sents(), sg=1)\n",
    "model_movie = word2vec.Word2Vec(movie_reviews.sents(), sg=1)"
   ]
  },
  {
   "cell_type": "code",
   "execution_count": 23,
   "id": "8e3d3536",
   "metadata": {},
   "outputs": [
    {
     "data": {
      "text/plain": [
       "[('care', 0.8247756361961365),\n",
       " ('job', 0.8234862685203552),\n",
       " ('friendship', 0.8155255317687988),\n",
       " ('risk', 0.8031647801399231),\n",
       " ('joy', 0.799659013748169)]"
      ]
     },
     "execution_count": 23,
     "metadata": {},
     "output_type": "execute_result"
    }
   ],
   "source": [
    "model_brown.wv.most_similar('money', topn=5)"
   ]
  },
  {
   "cell_type": "code",
   "execution_count": 24,
   "id": "ad69a803",
   "metadata": {},
   "outputs": [
    {
     "data": {
      "text/plain": [
       "[('cash', 0.7280440926551819),\n",
       " ('paid', 0.7066217064857483),\n",
       " ('ransom', 0.7053995728492737),\n",
       " ('record', 0.691874623298645),\n",
       " ('risk', 0.688428521156311)]"
      ]
     },
     "execution_count": 24,
     "metadata": {},
     "output_type": "execute_result"
    }
   ],
   "source": [
    "model_movie.wv.most_similar('money', topn=5)"
   ]
  },
  {
   "cell_type": "code",
   "execution_count": 25,
   "id": "484e258f",
   "metadata": {},
   "outputs": [
    {
     "name": "stderr",
     "output_type": "stream",
     "text": [
      "/Users/tengyaolong/opt/anaconda3/envs/tf/lib/python3.7/site-packages/ipykernel_launcher.py:4: DeprecationWarning: Call to deprecated `glove2word2vec` (KeyedVectors.load_word2vec_format(.., binary=False, no_header=True) loads GLoVE text vectors.).\n",
      "  after removing the cwd from sys.path.\n"
     ]
    },
    {
     "data": {
      "text/plain": [
       "(400000, 100)"
      ]
     },
     "execution_count": 25,
     "metadata": {},
     "output_type": "execute_result"
    }
   ],
   "source": [
    "from gensim.scripts.glove2word2vec import glove2word2vec\n",
    "glove_input_file = '/Users/tengyaolong/Desktop/Anaconda_stuff/Tensorflow/glove/glove.6B.100d.txt'\n",
    "word2vec_output_file = '/Users/tengyaolong/Desktop/Anaconda_stuff/Tensorflow/glove/glove.6B.100d.w2vformat.txt'\n",
    "glove2word2vec(glove_input_file, word2vec_output_file)"
   ]
  },
  {
   "cell_type": "code",
   "execution_count": 26,
   "id": "57182453",
   "metadata": {},
   "outputs": [
    {
     "data": {
      "text/plain": [
       "[('funds', 0.8508071303367615),\n",
       " ('cash', 0.848483681678772),\n",
       " ('fund', 0.7594832181930542),\n",
       " ('paying', 0.7415366172790527),\n",
       " ('pay', 0.740767240524292)]"
      ]
     },
     "execution_count": 26,
     "metadata": {},
     "output_type": "execute_result"
    }
   ],
   "source": [
    "from gensim.models.keyedvectors import KeyedVectors\n",
    "glove_model = KeyedVectors.load_word2vec_format('/Users/tengyaolong/Desktop/Anaconda_stuff/Tensorflow/glove/glove.6B.100d.w2vformat.txt', binary=False)\n",
    "\n",
    "glove_model.most_similar('money', topn=5)"
   ]
  },
  {
   "cell_type": "code",
   "execution_count": 27,
   "id": "7fc2bf1b",
   "metadata": {},
   "outputs": [
    {
     "data": {
      "text/plain": [
       "[('queen', 0.7698541283607483),\n",
       " ('monarch', 0.6843380928039551),\n",
       " ('throne', 0.6755736470222473),\n",
       " ('daughter', 0.6594555974006653),\n",
       " ('princess', 0.6520534157752991)]"
      ]
     },
     "execution_count": 27,
     "metadata": {},
     "output_type": "execute_result"
    }
   ],
   "source": [
    "glove_model.most_similar(positive=['woman', 'king'], negative=['man'], topn=5)"
   ]
  },
  {
   "cell_type": "code",
   "execution_count": null,
   "id": "77e7a117",
   "metadata": {},
   "outputs": [],
   "source": []
  }
 ],
 "metadata": {
  "kernelspec": {
   "display_name": "tf",
   "language": "python",
   "name": "tf"
  },
  "language_info": {
   "codemirror_mode": {
    "name": "ipython",
    "version": 3
   },
   "file_extension": ".py",
   "mimetype": "text/x-python",
   "name": "python",
   "nbconvert_exporter": "python",
   "pygments_lexer": "ipython3",
   "version": "3.7.10"
  }
 },
 "nbformat": 4,
 "nbformat_minor": 5
}
