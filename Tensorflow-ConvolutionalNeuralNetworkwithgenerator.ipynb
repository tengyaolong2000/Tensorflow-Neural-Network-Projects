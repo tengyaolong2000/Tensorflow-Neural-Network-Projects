{
 "cells": [
  {
   "cell_type": "code",
   "execution_count": 3,
   "id": "267ac80a",
   "metadata": {},
   "outputs": [
    {
     "data": {
      "text/plain": [
       "(10000, 28, 28)"
      ]
     },
     "execution_count": 3,
     "metadata": {},
     "output_type": "execute_result"
    }
   ],
   "source": [
    "import tensorflow as tf\n",
    "from tensorflow.keras.datasets import fashion_mnist\n",
    "\n",
    "(features_train, labels_train), (features_test, labels_test) = fashion_mnist.load_data()\n"
   ]
  },
  {
   "cell_type": "code",
   "execution_count": 4,
   "id": "0d0fd5f2",
   "metadata": {},
   "outputs": [],
   "source": [
    "features_train = tf.reshape(features_train, [60000, 28, 28, 1])\n",
    "features_test = tf.reshape(features_test, [10000, 28, 28, 1])\n"
   ]
  },
  {
   "cell_type": "code",
   "execution_count": 7,
   "id": "6bcc0cac",
   "metadata": {},
   "outputs": [
    {
     "data": {
      "text/plain": [
       "60000"
      ]
     },
     "execution_count": 7,
     "metadata": {},
     "output_type": "execute_result"
    }
   ],
   "source": [
    "total_size = len(features_train)"
   ]
  },
  {
   "cell_type": "code",
   "execution_count": 11,
   "id": "793de9fb",
   "metadata": {},
   "outputs": [],
   "source": [
    "batch_size = 16\n",
    "img_height = 28\n",
    "img_width = 28\n",
    "\n",
    "from tensorflow.keras.preprocessing.image import ImageDataGenerator\n",
    "\n",
    "train_img_gen = ImageDataGenerator(rescale=1./255, rotation_range=40, width_shift_range=0.1, \\\n",
    "                                   height_shift_range=0.1, shear_range=0.2, zoom_range=0.2, \\\n",
    "                                  horizontal_flip=True, fill_mode='nearest')\n",
    "\n",
    "test_img_gen = ImageDataGenerator(rescale=1./255, rotation_range=40, width_shift_range=0.1, height_shift_range=0.1, \\\n",
    "                                  shear_range=0.2, zoom_range=0.2, \\\n",
    "                                 horizontal_flip=True, fill_mode='nearest')\n",
    "\n",
    "train_data_gen = train_img_gen.flow(features_train, labels_train, batch_size=batch_size)\n",
    "test_data_gen = test_img_gen.flow(features_test, labels_test, batch_size=batch_size)\n",
    "\n",
    "from tensorflow.keras import layers\n",
    "\n",
    "model = tf.keras.Sequential([\n",
    "    layers.Conv2D(64, (3,3), activation='relu', input_shape=(img_height, img_width, 1)),\n",
    "    layers.MaxPooling2D(),\n",
    "    layers.Conv2D(64, (3,3), activation='relu'),\n",
    "    layers.MaxPooling2D(),\n",
    "    layers.Flatten(),\n",
    "    layers.Dense(128, activation='relu'),\n",
    "    layers.Dense(10, activation='softmax')\n",
    "])\n",
    "\n",
    "optimizer = tf.keras.optimizers.Adam(0.001)\n",
    "\n",
    "model.compile(loss='sparse_categorical_crossentropy', optimizer=optimizer, metrics=['accuracy'])\n",
    "\n",
    "import os\n",
    "os.environ['KMP_DUPLICATE_LIB_OK']='True'\n",
    "\n",
    "\n"
   ]
  },
  {
   "cell_type": "code",
   "execution_count": 14,
   "id": "e20a2f3e",
   "metadata": {},
   "outputs": [
    {
     "name": "stdout",
     "output_type": "stream",
     "text": [
      "Epoch 1/5\n",
      "3750/3750 [==============================] - 342s 91ms/step - loss: 0.8285 - accuracy: 0.6909 - val_loss: 0.6713 - val_accuracy: 0.7506\n",
      "Epoch 2/5\n",
      "3750/3750 [==============================] - 345s 92ms/step - loss: 0.6070 - accuracy: 0.7734 - val_loss: 0.5899 - val_accuracy: 0.7803\n",
      "Epoch 3/5\n",
      "3750/3750 [==============================] - 326s 87ms/step - loss: 0.5407 - accuracy: 0.7970 - val_loss: 0.5417 - val_accuracy: 0.7969\n",
      "Epoch 4/5\n",
      "3750/3750 [==============================] - 1994s 532ms/step - loss: 0.5049 - accuracy: 0.8115 - val_loss: 0.5236 - val_accuracy: 0.8078\n",
      "Epoch 5/5\n",
      "3750/3750 [==============================] - 326s 87ms/step - loss: 0.4775 - accuracy: 0.8217 - val_loss: 0.5089 - val_accuracy: 0.8036\n"
     ]
    },
    {
     "data": {
      "text/plain": [
       "<tensorflow.python.keras.callbacks.History at 0x7f889db12d10>"
      ]
     },
     "execution_count": 14,
     "metadata": {},
     "output_type": "execute_result"
    }
   ],
   "source": [
    "model.fit_generator(train_data_gen, epochs=5, steps_per_epoch=len(features_train)//batch_size, validation_data=test_data_gen, \\\n",
    "                    validation_steps=len(features_test)//batch_size )"
   ]
  },
  {
   "cell_type": "code",
   "execution_count": null,
   "id": "98c61ffb",
   "metadata": {},
   "outputs": [],
   "source": []
  }
 ],
 "metadata": {
  "kernelspec": {
   "display_name": "tf",
   "language": "python",
   "name": "tf"
  },
  "language_info": {
   "codemirror_mode": {
    "name": "ipython",
    "version": 3
   },
   "file_extension": ".py",
   "mimetype": "text/x-python",
   "name": "python",
   "nbconvert_exporter": "python",
   "pygments_lexer": "ipython3",
   "version": "3.7.10"
  }
 },
 "nbformat": 4,
 "nbformat_minor": 5
}
